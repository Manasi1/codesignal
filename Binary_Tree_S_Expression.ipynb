{
  "nbformat": 4,
  "nbformat_minor": 0,
  "metadata": {
    "colab": {
      "provenance": [],
      "collapsed_sections": [],
      "authorship_tag": "ABX9TyPGOdek+qpy95vBZM0nNJhE",
      "include_colab_link": true
    },
    "kernelspec": {
      "name": "python3",
      "display_name": "Python 3"
    },
    "language_info": {
      "name": "python"
    }
  },
  "cells": [
    {
      "cell_type": "markdown",
      "metadata": {
        "id": "view-in-github",
        "colab_type": "text"
      },
      "source": [
        "<a href=\"https://colab.research.google.com/github/Manasi1/codesignal/blob/main/Binary_Tree_S_Expression.ipynb\" target=\"_parent\"><img src=\"https://colab.research.google.com/assets/colab-badge.svg\" alt=\"Open In Colab\"/></a>"
      ]
    },
    {
      "cell_type": "code",
      "source": [
        "# Find Errors if incorrect Binary Tree\n",
        "# C++ version https://github.com/kwkevinlin/Algorithms-Practice/blob/master/Binary_Tree_S_Expression.cpp\n"
      ],
      "metadata": {
        "id": "Jcl8S1ds4sOz"
      },
      "execution_count": null,
      "outputs": []
    },
    {
      "cell_type": "code",
      "execution_count": 1,
      "metadata": {
        "id": "b7849XVj4oKX"
      },
      "outputs": [],
      "source": [
        "    # Enter your code here. Read input from STDIN. Print output to STDOUT\n",
        "    \n",
        "    res_list = []\n",
        "    \n",
        "    def parseInputs(self, input1, adjList, numParents, root) -> bool:\n",
        "        parent = ''\n",
        "        index = 0\n",
        "        E5Error = False\n",
        "        print(adjList)\n",
        "        for i in range(len(input1)):\n",
        "            if (input1[i] != '(' and input1[i] != ')' and input1[i] != ',' and input1[i] != ' '):\n",
        "                index += 1\n",
        "\n",
        "                if (index % 2 == 1):\n",
        "                    if (i - 1 >= 0 and input1[i - 1] != '('):\n",
        "                        print(\"E1\")\n",
        "                        return False, root\n",
        "                    elif (i + 1 < len(input1) and input1[i + 1] != ','):\n",
        "                        print(\"E1\")\n",
        "                        return False, root\n",
        "                    parent = input1[i]\n",
        "\n",
        "                else:\n",
        "                    if (i - 1 >= 0 and input1[i - 1] != ','):\n",
        "                        print(\"E1\")\n",
        "                        return False, root\n",
        "                    elif (i + 1 < len(input1) and input1[i + 1] != ')'):\n",
        "                        print(\"E1\")\n",
        "                        return False, root\n",
        "                    print(adjList)\n",
        "                    if adjList.get(parent):\n",
        "                        for j in range(len(adjList.get(parent))):\n",
        "                            if (adjList[parent][j] == input1[i]):\n",
        "                                print(\"E2\")\n",
        "                                return False, root\n",
        "\n",
        "                    if adjList.get(parent) is not None and (len(adjList.get(parent)) == 2):\n",
        "                        print(\"E3\")\n",
        "                        return False, root\n",
        "                    if numParents.get(input1[i]):\n",
        "                        numParents[input1[i]] += 1\n",
        "                    else:\n",
        "                        numParents[input1[i]] = 1\n",
        "                    if (numParents[input1[i]] == 2):\n",
        "                        E5Error = True\n",
        "\n",
        "                    adjList[parent] = [input1[i]]\n",
        "                    print(adjList)\n",
        "                    index = 0\n",
        "            elif (i - 1 <= 0 and input1[i] == ' '):\n",
        "                if (input1[i] == ' '):\n",
        "                    print(\"E1\")\n",
        "                    return False, root\n",
        "\n",
        "        numRoots = 0\n",
        "        for m, n in numParents.items():\n",
        "            if (n == 0):\n",
        "                root = m\n",
        "                numRoots = numRoots + 1\n",
        "                if (numRoots == 2):\n",
        "                    print(\"E4\")\n",
        "                    return False, root\n",
        "\n",
        "        if (E5Error == True):\n",
        "            print(\"E5\")\n",
        "            return False, root\n",
        "\n",
        "        return True, root\n",
        "\n",
        "    def lexiSExpressionPrint(adjList, current):\n",
        "        print(f\"({current}\")\n",
        "        res_list.append(\"(\")\n",
        "        res_list.append(current)\n",
        "        numChild = len(adjList[current])\n",
        "        if (numChild == 1):\n",
        "            lexiSExpressionPrint(adjList, adjList[current][0])\n",
        "        elif (numChild == 2):\n",
        "            if (adjList[current][0] < adjList[current][1]):\n",
        "                lexiSExpressionPrint(adjList, adjList[current][0])\n",
        "                lexiSExpressionPrint(adjList, adjList[current][1])\n",
        "            else:\n",
        "                lexiSExpressionPrint(adjList, adjList[current][1])\n",
        "                lexiSExpressionPrint(adjList, adjList[current][1])\n",
        "        print(\")\")\n",
        "        res_list.append(\")\")\n",
        "\n",
        "    def test_main(self):\n",
        "        root = ''\n",
        "        adjList = {}\n",
        "        numParents = {}\n",
        "        inputStr = \"(A,B) (A,C) (B,D) (D,E) (C,F) (E,G)\"\n",
        "        bool_val, root = parseInputs(inputStr, adjList, numParents, root)\n",
        "        if (not self.parseInputs(inputStr, adjList, numParents, root)):\n",
        "            return 0\n",
        "        lexiSExpressionPrint(adjList, root)\n",
        "        res_str = \"\"\n",
        "        for i in res_list:\n",
        "          res_str = res_str+i\n",
        "        return res_str"
      ]
    }
  ]
}