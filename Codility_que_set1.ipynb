{
  "nbformat": 4,
  "nbformat_minor": 0,
  "metadata": {
    "colab": {
      "provenance": [],
      "authorship_tag": "ABX9TyPX9F+ghM2f5WChZqxytF1V",
      "include_colab_link": true
    },
    "kernelspec": {
      "name": "python3",
      "display_name": "Python 3"
    },
    "language_info": {
      "name": "python"
    }
  },
  "cells": [
    {
      "cell_type": "markdown",
      "metadata": {
        "id": "view-in-github",
        "colab_type": "text"
      },
      "source": [
        "<a href=\"https://colab.research.google.com/github/Manasi1/codesignal/blob/main/Codility_que_set1.ipynb\" target=\"_parent\"><img src=\"https://colab.research.google.com/assets/colab-badge.svg\" alt=\"Open In Colab\"/></a>"
      ]
    },
    {
      "cell_type": "code",
      "source": [
        "\"\"\"\n",
        "Given an array on N Strings, your function should calculate the length of longest string S\n",
        "\"\"\""
      ],
      "metadata": {
        "id": "dY6V29cDsZcA"
      },
      "execution_count": null,
      "outputs": []
    },
    {
      "cell_type": "code",
      "execution_count": 2,
      "metadata": {
        "id": "KvxW5tgchmSY"
      },
      "outputs": [],
      "source": [
        "def maxLength(arr) -> int:\n",
        "  n = len(arr)\n",
        "  res = [\"\"]\n",
        "  op = 0\n",
        "        \n",
        "  for word in arr:\n",
        "    for r in res:\n",
        "      newRes = r+word\n",
        "      if len(newRes)!=len(set(newRes)): continue\n",
        "      res.append(newRes)\n",
        "      op = max(op, len(newRes))\n",
        "  return op"
      ]
    },
    {
      "cell_type": "code",
      "source": [
        "maxLength([\"co\",\"dil\",\"ity\"])"
      ],
      "metadata": {
        "colab": {
          "base_uri": "https://localhost:8080/"
        },
        "id": "KXs24CxtjQw5",
        "outputId": "c8fb65f4-05e1-472f-9d8b-bb6f6e8f5d06"
      },
      "execution_count": 3,
      "outputs": [
        {
          "output_type": "execute_result",
          "data": {
            "text/plain": [
              "5"
            ]
          },
          "metadata": {},
          "execution_count": 3
        }
      ]
    },
    {
      "cell_type": "code",
      "source": [
        "maxLength([\"abc\",\"yyy\",\"def\",\"csv\"])"
      ],
      "metadata": {
        "colab": {
          "base_uri": "https://localhost:8080/"
        },
        "id": "HjPdZd1yjjwv",
        "outputId": "c360337d-f2d0-4040-eab0-609e5e14e371"
      },
      "execution_count": 4,
      "outputs": [
        {
          "output_type": "execute_result",
          "data": {
            "text/plain": [
              "6"
            ]
          },
          "metadata": {},
          "execution_count": 4
        }
      ]
    },
    {
      "cell_type": "code",
      "source": [
        "maxLength([\"potato\",\"kayak\",\"banana\",\"racecar\"])"
      ],
      "metadata": {
        "colab": {
          "base_uri": "https://localhost:8080/"
        },
        "id": "xbCBgWeOjs2f",
        "outputId": "2d711de1-33d3-4e60-f0cb-9a1994e58465"
      },
      "execution_count": 5,
      "outputs": [
        {
          "output_type": "execute_result",
          "data": {
            "text/plain": [
              "0"
            ]
          },
          "metadata": {},
          "execution_count": 5
        }
      ]
    },
    {
      "cell_type": "code",
      "source": [
        "maxLength([\"eva\",\"jqw\",\"tyn\",\"jan\"])"
      ],
      "metadata": {
        "colab": {
          "base_uri": "https://localhost:8080/"
        },
        "id": "dBk91z6Mj1oL",
        "outputId": "0e12ee78-92e7-4b7c-80a5-a9deee936859"
      },
      "execution_count": 6,
      "outputs": [
        {
          "output_type": "execute_result",
          "data": {
            "text/plain": [
              "9"
            ]
          },
          "metadata": {},
          "execution_count": 6
        }
      ]
    },
    {
      "cell_type": "code",
      "source": [
        "\"\"\"\n",
        "Write a function solution that, given an integer N, returns the maximum possible value \n",
        "obtainable by deleting one '5' digit from the decimal representation of N. It is guaranteed that N will contain at \n",
        "least one '5' digit. \n",
        "Examples: 1. Given N = 15958, the function should return 1958. 2. \n",
        "Given N= -5859, the function should return -589. 3. Given N= -5000, the function should return 0. \n",
        "After deleting the '5', the only digits in the number are zeroes, so its value is 0. Assume that: .N is an \n",
        "integer within the range [-999,995..999,995]; • N contains at least one '5' digit in its decimal representation; \n",
        "• N consists of at least two digits in its decimal representation. In your solution, focus on correctness. \n",
        "The performance of your solution will not be the focus of the assessment.\n",
        "\"\"\""
      ],
      "metadata": {
        "id": "PQd2wlzNsaPJ"
      },
      "execution_count": null,
      "outputs": []
    },
    {
      "cell_type": "code",
      "source": [
        "def solu(N):\n",
        "  max = 0\n",
        "  str1 = str(N)\n",
        "  for i in range(0, len(str1)):\n",
        "    if str1[i] == \"5\":\n",
        "      temp = str()\n",
        "      temp = str1[0:i] + str1[i+1:]\n",
        "      num = int(temp)\n",
        "      if N > 0:\n",
        "        if num > max:\n",
        "          max = num\n",
        "      elif N < 0:\n",
        "        if num > N:\n",
        "          max = num\n",
        "  return max"
      ],
      "metadata": {
        "id": "NZI-7avKoukz"
      },
      "execution_count": 12,
      "outputs": []
    },
    {
      "cell_type": "code",
      "source": [
        "solu(-5859)"
      ],
      "metadata": {
        "colab": {
          "base_uri": "https://localhost:8080/"
        },
        "id": "sD3mFsaGq3Dq",
        "outputId": "0ee4c2b9-e79c-4d01-9bdc-b84e0327667b"
      },
      "execution_count": 16,
      "outputs": [
        {
          "output_type": "execute_result",
          "data": {
            "text/plain": [
              "-589"
            ]
          },
          "metadata": {},
          "execution_count": 16
        }
      ]
    }
  ]
}