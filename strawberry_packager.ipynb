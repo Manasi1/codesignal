{
  "nbformat": 4,
  "nbformat_minor": 0,
  "metadata": {
    "colab": {
      "provenance": [],
      "authorship_tag": "ABX9TyPklipoExjtf/p8WPjDWbRb",
      "include_colab_link": true
    },
    "kernelspec": {
      "name": "python3",
      "display_name": "Python 3"
    },
    "language_info": {
      "name": "python"
    }
  },
  "cells": [
    {
      "cell_type": "markdown",
      "metadata": {
        "id": "view-in-github",
        "colab_type": "text"
      },
      "source": [
        "<a href=\"https://colab.research.google.com/github/Manasi1/codesignal/blob/main/strawberry_packager.ipynb\" target=\"_parent\"><img src=\"https://colab.research.google.com/assets/colab-badge.svg\" alt=\"Open In Colab\"/></a>"
      ]
    },
    {
      "cell_type": "code",
      "source": [
        "# A Strawberry packager starts with a pile containing initialAmount pounds of strawberries, and produces packages of strawberries."
      ],
      "metadata": {
        "id": "p-y6QisN3Ccm"
      },
      "execution_count": null,
      "outputs": []
    },
    {
      "cell_type": "code",
      "execution_count": 3,
      "metadata": {
        "id": "f9BnomMHQxNR"
      },
      "outputs": [],
      "source": [
        "initialAmount = 14\n",
        "packageMaxAmount= 3\n"
      ]
    },
    {
      "cell_type": "code",
      "source": [
        "init_package = [initialAmount]\n",
        "result = []\n",
        "split_pile = []\n",
        "while init_package:\n",
        "  first_item = init_package.pop(0)\n",
        "  if first_item>packageMaxAmount:\n",
        "    if first_item%2 == 0:\n",
        "      first_num = first_item/2\n",
        "      init_package.append(first_num)\n",
        "      init_package.append(first_num)\n",
        "    else:\n",
        "      fn = first_item//2\n",
        "      init_package.append(fn)\n",
        "      init_package.append(first_item-fn)\n",
        "      \n",
        "  else:\n",
        "    result.append(first_item)\n",
        "\n",
        "print(len(result))"
      ],
      "metadata": {
        "colab": {
          "base_uri": "https://localhost:8080/"
        },
        "id": "skkD9LDlSzdY",
        "outputId": "83f6a036-9ad9-4ea3-a1b8-301826150715"
      },
      "execution_count": 7,
      "outputs": [
        {
          "output_type": "stream",
          "name": "stdout",
          "text": [
            "6\n"
          ]
        }
      ]
    }
  ]
}