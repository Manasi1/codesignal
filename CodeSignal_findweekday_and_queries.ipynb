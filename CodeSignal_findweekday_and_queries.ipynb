{
  "nbformat": 4,
  "nbformat_minor": 0,
  "metadata": {
    "colab": {
      "name": "CodeSignal_findweekday_and_queries.ipynb",
      "provenance": [],
      "collapsed_sections": [],
      "authorship_tag": "ABX9TyOj4ph75vKNkeTZrvdApaWh",
      "include_colab_link": true
    },
    "kernelspec": {
      "name": "python3",
      "display_name": "Python 3"
    },
    "language_info": {
      "name": "python"
    }
  },
  "cells": [
    {
      "cell_type": "markdown",
      "metadata": {
        "id": "view-in-github",
        "colab_type": "text"
      },
      "source": [
        "<a href=\"https://colab.research.google.com/github/Manasi1/codesignal/blob/main/CodeSignal_findweekday_and_queries.ipynb\" target=\"_parent\"><img src=\"https://colab.research.google.com/assets/colab-badge.svg\" alt=\"Open In Colab\"/></a>"
      ]
    },
    {
      "cell_type": "code",
      "source": [
        "from itertools import combinations"
      ],
      "metadata": {
        "id": "vwZaDyqPE_Ln"
      },
      "execution_count": null,
      "outputs": []
    },
    {
      "cell_type": "code",
      "execution_count": null,
      "metadata": {
        "id": "e4WtNncvvs6A"
      },
      "outputs": [],
      "source": [
        "def solution(month:str, day:int):\n",
        "  week_map = {\n",
        "      1:\"Friday\",\n",
        "      2:\"Saturday\",\n",
        "      3:\"Sunday\",\n",
        "      4:\"weeknday\",\n",
        "      5:\"Monday\",\n",
        "      6:\"Tuesday\",\n",
        "      7:\"Wednesday\",\n",
        "      0:\"Thursday\"\n",
        "  }\n",
        "  month_days_list = [31,28,31,30,31,30,31,31,30,31,30,31]\n",
        "  month_number = [\"January\",\"February\",\"March\",\"April\",\"May\",\"June\",\"July\",\"August\",\"September\",\"October\",\"November\",\"December\"]\n",
        "  curent_month_number = month_number.index(month)\n",
        "  total_days_till_now = day\n",
        "  for i in range (curent_month_number):\n",
        "    total_days_till_now = total_days_till_now + month_days_list[i]  \n",
        "  total_weeks = total_days_till_now/8\n",
        "  days_remianing = total_days_till_now%8\n",
        "  print(total_weeks)\n",
        "  print(days_remianing)\n",
        "  print(week_map[days_remianing])\n",
        "  return week_map[days_remianing]"
      ]
    },
    {
      "cell_type": "code",
      "source": [
        "solution(\"May\",16)"
      ],
      "metadata": {
        "colab": {
          "base_uri": "https://localhost:8080/",
          "height": 91
        },
        "id": "UNX5Ckax2s9d",
        "outputId": "dd5dc31b-ad44-48d8-d094-802d4a27b2cb"
      },
      "execution_count": null,
      "outputs": [
        {
          "output_type": "stream",
          "name": "stdout",
          "text": [
            "17.0\n",
            "0\n",
            "Thursday\n"
          ]
        },
        {
          "output_type": "execute_result",
          "data": {
            "text/plain": [
              "'Thursday'"
            ],
            "application/vnd.google.colaboratory.intrinsic+json": {
              "type": "string"
            }
          },
          "metadata": {},
          "execution_count": 78
        }
      ]
    },
    {
      "cell_type": "code",
      "source": [
        "def nextsol(queries, diff):\n",
        "  numbers = []\n",
        "  result = []\n",
        "  result.append(0)\n",
        "  for i in range(len(queries)):\n",
        "    if queries[i][0] == \"+\":\n",
        "       numbers.append(int(queries[i][1]))\n",
        "    elif queries[i][0] == \"-\":\n",
        "      num = int(queries[i][1])\n",
        "      if num in numbers:\n",
        "        numbers.remove(num)\n",
        "      else:\n",
        "        numbers.append(-abs(num))\n",
        "    if len(numbers) >1:\n",
        "      print(f\"numbers = {numbers}\")\n",
        "      diff_list = [abs(a -b) for a, b in combinations(numbers, 2)]\n",
        "      print(f\"diff_list = {diff_list}\")\n",
        "      if diff in diff_list:\n",
        "        result.append(diff_list.count(diff))\n",
        "      else:\n",
        "        result.append(0)\n",
        "  print(f\"result={result}\")\n",
        "  return result "
      ],
      "metadata": {
        "id": "ODhCElq07-_-"
      },
      "execution_count": null,
      "outputs": []
    },
    {
      "cell_type": "code",
      "source": [
        "nextsol([\"+4\",\"+5\",\"+2\",\"-4\"],1)"
      ],
      "metadata": {
        "colab": {
          "base_uri": "https://localhost:8080/"
        },
        "id": "CVF_yupw_Rps",
        "outputId": "1a50f7a8-ba0a-49fb-cebd-deee0da37212"
      },
      "execution_count": null,
      "outputs": [
        {
          "output_type": "stream",
          "name": "stdout",
          "text": [
            "numbers = [4, 5]\n",
            "diff_list = [1]\n",
            "numbers = [4, 5, 2]\n",
            "diff_list = [1, 2, 3]\n",
            "numbers = [5, 2]\n",
            "diff_list = [3]\n",
            "result=[0, 1, 1, 0]\n"
          ]
        },
        {
          "output_type": "execute_result",
          "data": {
            "text/plain": [
              "[0, 1, 1, 0]"
            ]
          },
          "metadata": {},
          "execution_count": 76
        }
      ]
    },
    {
      "cell_type": "code",
      "source": [
        "nextsol([\"+2\",\"+2\",\"+4\",\"+3\",\"-2\"],1)"
      ],
      "metadata": {
        "colab": {
          "base_uri": "https://localhost:8080/"
        },
        "id": "v5BXXTEiB4Ov",
        "outputId": "a1a3119c-ddc1-45b5-dcbc-8257c99c276b"
      },
      "execution_count": null,
      "outputs": [
        {
          "output_type": "stream",
          "name": "stdout",
          "text": [
            "numbers = [2, 2]\n",
            "diff_list = [0]\n",
            "numbers = [2, 2, 4]\n",
            "diff_list = [0, 2, 2]\n",
            "numbers = [2, 2, 4, 3]\n",
            "diff_list = [0, 2, 1, 2, 1, 1]\n",
            "numbers = [2, 4, 3]\n",
            "diff_list = [2, 1, 1]\n",
            "result=[0, 0, 0, 3, 2]\n"
          ]
        },
        {
          "output_type": "execute_result",
          "data": {
            "text/plain": [
              "[0, 0, 0, 3, 2]"
            ]
          },
          "metadata": {},
          "execution_count": 77
        }
      ]
    }
  ]
}